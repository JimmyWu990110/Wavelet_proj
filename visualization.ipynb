{
 "cells": [
  {
   "cell_type": "code",
   "execution_count": null,
   "metadata": {},
   "outputs": [],
   "source": [
    "import numpy as np\n",
    "\n",
    "wave_test = np.fromfile('wave_test_loss.npy')\n",
    "wave_train = np.fromfile('wave_train_loss.npy')\n",
    "freq_test = np.fromfile('freq_test_loss.npy')\n",
    "freq_train = np.fromfile('freq_train_loss.npy')"
   ]
  }
 ],
 "metadata": {
  "kernelspec": {
   "display_name": ".venv",
   "language": "python",
   "name": "python3"
  },
  "language_info": {
   "name": "python",
   "version": "3.12.7"
  }
 },
 "nbformat": 4,
 "nbformat_minor": 2
}
