{
  "cells": [
    {
      "cell_type": "code",
      "execution_count": 1,
      "metadata": {
        "colab": {
          "base_uri": "https://localhost:8080/"
        },
        "id": "GNidGL9so-Cz",
        "outputId": "fc6bb305-dd5f-4e5c-e52b-e12c25def205"
      },
      "outputs": [
        {
          "output_type": "stream",
          "name": "stdout",
          "text": [
            "Requirement already satisfied: PyWavelets in /usr/local/lib/python3.10/dist-packages (1.8.0)\n",
            "Requirement already satisfied: pytorch_wavelets in /usr/local/lib/python3.10/dist-packages (1.3.0)\n",
            "Requirement already satisfied: numpy<3,>=1.23 in /usr/local/lib/python3.10/dist-packages (from PyWavelets) (1.26.4)\n",
            "Requirement already satisfied: six in /usr/local/lib/python3.10/dist-packages (from pytorch_wavelets) (1.16.0)\n",
            "Requirement already satisfied: torch in /usr/local/lib/python3.10/dist-packages (from pytorch_wavelets) (2.5.1+cu121)\n",
            "Requirement already satisfied: filelock in /usr/local/lib/python3.10/dist-packages (from torch->pytorch_wavelets) (3.16.1)\n",
            "Requirement already satisfied: typing-extensions>=4.8.0 in /usr/local/lib/python3.10/dist-packages (from torch->pytorch_wavelets) (4.12.2)\n",
            "Requirement already satisfied: networkx in /usr/local/lib/python3.10/dist-packages (from torch->pytorch_wavelets) (3.4.2)\n",
            "Requirement already satisfied: jinja2 in /usr/local/lib/python3.10/dist-packages (from torch->pytorch_wavelets) (3.1.4)\n",
            "Requirement already satisfied: fsspec in /usr/local/lib/python3.10/dist-packages (from torch->pytorch_wavelets) (2024.10.0)\n",
            "Requirement already satisfied: sympy==1.13.1 in /usr/local/lib/python3.10/dist-packages (from torch->pytorch_wavelets) (1.13.1)\n",
            "Requirement already satisfied: mpmath<1.4,>=1.1.0 in /usr/local/lib/python3.10/dist-packages (from sympy==1.13.1->torch->pytorch_wavelets) (1.3.0)\n",
            "Requirement already satisfied: MarkupSafe>=2.0 in /usr/local/lib/python3.10/dist-packages (from jinja2->torch->pytorch_wavelets) (3.0.2)\n"
          ]
        }
      ],
      "source": [
        "pip install PyWavelets pytorch_wavelets"
      ]
    },
    {
      "cell_type": "code",
      "execution_count": 4,
      "metadata": {
        "id": "9qkZwYcnDoo0"
      },
      "outputs": [],
      "source": [
        "import math\n",
        "import torch\n",
        "from pytorch_wavelets import DWTForward ,DWTInverse\n",
        "class Basicconv(torch.nn.Module):\n",
        "\n",
        "  def __init__(self, inchannel, outchannel, groups=1):\n",
        "    super().__init__()\n",
        "    self.conv = torch.nn.Conv2d(inchannel, outchannel, kernel_size = 3, padding = 1, groups=groups)\n",
        "    self.act = torch.nn.PReLU()\n",
        "    self.nom = torch.nn.GroupNorm(groups, outchannel)\n",
        "\n",
        "  def forward(self, x):\n",
        "    x = self.conv(x)\n",
        "    x = self.nom(x)\n",
        "    x = self.act(x)\n",
        "    return x\n",
        "\n",
        "class Bottleneck(torch.nn.Module):\n",
        "  def __init__(self, inchannel, outchannel):\n",
        "    super().__init__()\n",
        "    self.conv = torch.nn.Conv2d(inchannel, outchannel, kernel_size = 1)\n",
        "  def forward(self, x):\n",
        "    x = self.conv(x)\n",
        "    return x\n",
        "\n",
        "class DCRblock(torch.nn.Module):\n",
        "  def __init__(self, inchannel):\n",
        "    super().__init__()\n",
        "    self.conv1 = Basicconv(inchannel, inchannel//2)\n",
        "    self.conv2 = Basicconv(inchannel//2 + inchannel, inchannel//2)\n",
        "    self.conv3 = Basicconv(2*inchannel, inchannel)\n",
        "  def forward(self, x):\n",
        "    x1 = self.conv1(x)\n",
        "    x2 = torch.cat([x,x1], dim=1)\n",
        "    x2 = self.conv2(x2)\n",
        "    x2 = torch.cat([x1,x2,x], dim=1)\n",
        "    x3 = self.conv3(x2)\n",
        "    x = x3 + x\n",
        "    return x\n",
        "\n",
        "class finalneck(torch.nn.Module):\n",
        "  def __init__(self, inchannel, outchannel):\n",
        "    super().__init__()\n",
        "    self.conv = torch.nn.Conv2d(inchannel, outchannel, kernel_size = 3, padding=1)\n",
        "  def forward(self, x):\n",
        "    x = self.conv(x)\n",
        "    return x\n",
        "\n",
        "class finalcombine(torch.nn.Module):\n",
        "  def __init__(self, inchannel, wave=\"Haar\", groups=False):\n",
        "    super().__init__()\n",
        "    self.groups = groups\n",
        "    self.c00 = Basicconv(inchannel = 3,  outchannel = 160)\n",
        "    self.DWT = DWTForward(1, wave, \"symmetric\")\n",
        "    self.IDWT = DWTInverse(wave, \"symmetric\")\n",
        "    self.c1 = Bottleneck(inchannel = 320, outchannel = 320)\n",
        "    self.d1 = Bottleneck(inchannel = 320, outchannel = 320)\n",
        "    self.c2 = DCRblock(inchannel = 320)\n",
        "    self.d2 = DCRblock(inchannel = 320)\n",
        "    self.c3 = DCRblock(inchannel = 320)\n",
        "    self.d3 = DCRblock(inchannel = 320)\n",
        "    self.c4 = finalneck(inchannel = 320, outchannel = 3)\n",
        "    self.d4 = finalneck(inchannel = 320, outchannel = 3)\n",
        "    self.c11 = Basicconv(inchannel = 3*4,  outchannel = 256, groups = 4 if groups else 1)\n",
        "    self.c12 = Bottleneck(inchannel = 512, outchannel = 512)\n",
        "    self.c13 = DCRblock(inchannel = 512)\n",
        "    self.c14 = finalneck(inchannel = 512, outchannel = 640)\n",
        "    self.c21 = Basicconv(inchannel = 3*4*4,  outchannel = 256, groups = 4 if groups else 1)\n",
        "    self.c22 = Bottleneck(inchannel = 512, outchannel = 512)\n",
        "    self.c23 = DCRblock(inchannel = 512)\n",
        "    self.c24 = finalneck(inchannel = 512, outchannel = 1024)\n",
        "    self.c31 = Basicconv(inchannel = 3*4*4*4,  outchannel = 256, groups = 4 if groups else 1)\n",
        "    self.c32 = DCRblock(inchannel = 256)\n",
        "    self.c33 = finalneck(inchannel = 256, outchannel = 1024)\n",
        "\n",
        "  def forward(self, x):\n",
        "    x00 = self.c00(x)\n",
        "    b, c, w, h = x.shape\n",
        "    w = w // 2\n",
        "    h = h // 2\n",
        "    xl, xh = self.DWT(x)\n",
        "    xh = xh[0][:, :, :, :w, :h]\n",
        "    xl = xl[:, :, :w, :h]\n",
        "    b, c, _, w, h = xh.shape\n",
        "    xh = xh.reshape(b, 3*c, w, h)\n",
        "    x1 = torch.cat([xl, xh], dim = 1)\n",
        "\n",
        "    x11 = self.c11(x1)\n",
        "    b, c, w, h = x1.shape\n",
        "    w = w // 2\n",
        "    h = h // 2\n",
        "    xl, xh = self.DWT(x1)\n",
        "    xh = xh[0][:, :, :, :w, :h]\n",
        "    xl = xl[:, :, :w, :h]\n",
        "    b, c, _, w, h = xh.shape\n",
        "    xh = xh.reshape(b, 3*c, w, h)\n",
        "    x2 = torch.cat([xl, xh], dim = 1)\n",
        "\n",
        "    x21 = self.c21(x2)\n",
        "    b, c, w, h = x2.shape\n",
        "    w = w // 2\n",
        "    h = h // 2\n",
        "    xl, xh = self.DWT(x2)\n",
        "    xh = xh[0][:, :, :, :w, :h]\n",
        "    xl = xl[:, :, :w, :h]\n",
        "    b, c, _, w, h = xh.shape\n",
        "    xh = xh.reshape(b, 3*c, w, h)\n",
        "    x3 = torch.cat([xl,xh], dim = 1)\n",
        "\n",
        "    x31 = self.c31(x3)\n",
        "    x32 = self.c32(x31)\n",
        "    x33 = self.c33(x32)\n",
        "    c = x33.shape[1] // 4\n",
        "    xl = x33[:, :c]\n",
        "    xh = x33[:, c:]\n",
        "    b, c, w, h = xl.shape\n",
        "    xh = [xh.reshape(b, c, 3, w, h)]\n",
        "    w = w * 2\n",
        "    h = h * 2\n",
        "    xi = self.IDWT((xl, xh))\n",
        "    xi = torch.nn.functional.pad(xi, (0, h-xi.shape[2], 0, w-xi.shape[3]), mode=\"reflect\")\n",
        "    x21 = torch.cat([x21, xi], dim=1)\n",
        "    x22 = self.c22(x21)\n",
        "    x23 = self.c23(x22)\n",
        "    x24 = self.c24(x23)\n",
        "    c = x24.shape[1] // 4\n",
        "    xl = x24[:, :c]\n",
        "    xh = x24[:, c:]\n",
        "    b, c, w, h = xl.shape\n",
        "    xh = [xh.reshape(b, c, 3, w, h)]\n",
        "    w *= 2\n",
        "    h *= 2\n",
        "    xi = self.IDWT((xl, xh))\n",
        "    xi = torch.nn.functional.pad(xi, (0, h-xi.shape[2], 0, w-xi.shape[3]), mode=\"reflect\")\n",
        "    x11 = torch.cat([x11, xi], dim=1)\n",
        "    x12 = self.c12(x11)\n",
        "    x13 = self.c13(x12)\n",
        "    x14 = self.c14(x13)\n",
        "    c = x14.shape[1] // 4\n",
        "    xl = x14[:, :c]\n",
        "    xh = x14[:, c:]\n",
        "    b, c, w, h = xl.shape\n",
        "    xh = [xh.reshape(b, c, 3, w, h)]\n",
        "    w *= 2\n",
        "    h *= 2\n",
        "    xi = self.IDWT((xl, xh))\n",
        "    xi = torch.nn.functional.pad(xi, (0, w - xi.shape[2], 0, h - xi.shape[3]), mode=\"reflect\")\n",
        "    x01 = torch.cat([x00, xi], dim=1)\n",
        "    xc1 = self.c1(x01)\n",
        "    xc2 = self.c2(xc1) + xc1\n",
        "    xc3 = self.c3(xc2) + xc2\n",
        "    xc4 = self.c4(xc3)\n",
        "    xc4 = torch.nn.functional.tanh(xc4)\n",
        "    xd1 = self.d1(x01)\n",
        "    xd2 = self.d2(xd1) + xd1\n",
        "    xd3 = self.d3(xd2) + xd2\n",
        "    xd4 = self.d4(xd3)\n",
        "    xd4 = x - xd4\n",
        "    output = (xd4 + xc4)/2\n",
        "    return output\n",
        "\n"
      ]
    },
    {
      "cell_type": "code",
      "execution_count": 5,
      "metadata": {
        "id": "DT8e5Z6defia"
      },
      "outputs": [],
      "source": [
        "from utils import train, test\n",
        "from BSD import BSDDataset\n",
        "import numpy as np\n",
        "torch.manual_seed(4623)\n",
        "torch.cuda.manual_seed(4623)\n",
        "device = torch.device(\"cuda:0\" if torch.cuda.is_available() else \"cpu\")\n",
        "\n",
        "image_size = 256\n",
        "epochs = 50\n",
        "batch_size = 4\n",
        "time_range = 1000\n",
        "lr = 1e-4\n",
        "noise_level = 10\n",
        "criterion = torch.nn.MSELoss()\n",
        "\n",
        "base_dir=\"\"\n",
        "\n",
        "train_set = BSDDataset(base_dir=base_dir, split=\"train\")\n",
        "test_set = BSDDataset(base_dir=base_dir, split=\"test\")\n",
        "\n",
        "\n",
        "def compute_loss(model, images, noise_level):\n",
        "    noisy_images = images + (noise_level/255)*torch.randn(*images.shape)\n",
        "    images = images.to(device) # move to GPU\n",
        "    noisy_images = np.clip(noisy_images, 0, 1)\n",
        "    noisy_images = noisy_images.to(device)\n",
        "    outputs = model(noisy_images) # forward\n",
        "    outputs = outputs.to(device)\n",
        "    loss = criterion(outputs, images)\n",
        "    return loss\n",
        "\n",
        "def denoise(model, noisy_img):\n",
        "    outputs = model(noisy_img) # forward\n",
        "    return outputs"
      ]
    },
    {
      "cell_type": "markdown",
      "metadata": {
        "id": "onPLNajZsVNc"
      },
      "source": [
        "NoGroup"
      ]
    },
    {
      "cell_type": "code",
      "execution_count": 6,
      "metadata": {
        "colab": {
          "base_uri": "https://localhost:8080/",
          "height": 602
        },
        "id": "xHXUd7Hqrx9_",
        "outputId": "e34befe5-4cac-4004-8fae-69bb4c060c24"
      },
      "outputs": [
        {
          "output_type": "stream",
          "name": "stderr",
          "text": [
            "/usr/local/lib/python3.10/dist-packages/torch/utils/data/dataloader.py:617: UserWarning: This DataLoader will create 4 worker processes in total. Our suggested max number of worker in current system is 2, which is smaller than what this DataLoader is going to create. Please be aware that excessive worker creation might get DataLoader running slow or even freeze, lower the worker number to avoid potential slowness/freeze if necessary.\n",
            "  warnings.warn(\n",
            "  0%|          | 0/50 [07:23<?, ?it/s, Step=200/10000, training loss=0.090]\n"
          ]
        },
        {
          "output_type": "error",
          "ename": "AttributeError",
          "evalue": "'finalcombine' object has no attribute 'loss'",
          "traceback": [
            "\u001b[0;31m---------------------------------------------------------------------------\u001b[0m",
            "\u001b[0;31mAttributeError\u001b[0m                            Traceback (most recent call last)",
            "\u001b[0;32m<ipython-input-6-57e6c26b4071>\u001b[0m in \u001b[0;36m<cell line: 6>\u001b[0;34m()\u001b[0m\n\u001b[1;32m      4\u001b[0m \u001b[0mmodel_name\u001b[0m \u001b[0;34m=\u001b[0m \u001b[0;34m\"DSWN\"\u001b[0m\u001b[0;34m+\u001b[0m\u001b[0mstr\u001b[0m\u001b[0;34m(\u001b[0m\u001b[0mnoise_level\u001b[0m\u001b[0;34m)\u001b[0m\u001b[0;34m\u001b[0m\u001b[0;34m\u001b[0m\u001b[0m\n\u001b[1;32m      5\u001b[0m \u001b[0;34m\u001b[0m\u001b[0m\n\u001b[0;32m----> 6\u001b[0;31m \u001b[0mtrain\u001b[0m\u001b[0;34m(\u001b[0m\u001b[0mmodel\u001b[0m\u001b[0;34m,\u001b[0m \u001b[0moptimizer\u001b[0m\u001b[0;34m,\u001b[0m \u001b[0mepochs\u001b[0m\u001b[0;34m,\u001b[0m \u001b[0mtrain_set\u001b[0m\u001b[0;34m,\u001b[0m \u001b[0mtest_set\u001b[0m\u001b[0;34m,\u001b[0m \u001b[0mbatch_size\u001b[0m\u001b[0;34m,\u001b[0m \u001b[0mmodel_name\u001b[0m\u001b[0;34m,\u001b[0m \u001b[0mcompute_loss\u001b[0m\u001b[0;34m=\u001b[0m\u001b[0mcompute_loss\u001b[0m\u001b[0;34m,\u001b[0m \u001b[0mnoise_level\u001b[0m\u001b[0;34m=\u001b[0m\u001b[0mnoise_level\u001b[0m\u001b[0;34m)\u001b[0m\u001b[0;34m\u001b[0m\u001b[0;34m\u001b[0m\u001b[0m\n\u001b[0m\u001b[1;32m      7\u001b[0m \u001b[0mtest\u001b[0m\u001b[0;34m(\u001b[0m\u001b[0mmodel\u001b[0m\u001b[0;34m,\u001b[0m \u001b[0mtest_set\u001b[0m\u001b[0;34m,\u001b[0m \u001b[0mbatch_size\u001b[0m\u001b[0;34m,\u001b[0m \u001b[0mmodel_name\u001b[0m\u001b[0;34m,\u001b[0m \u001b[0mnoise_level\u001b[0m\u001b[0;34m,\u001b[0m \u001b[0mdenoise\u001b[0m\u001b[0;34m=\u001b[0m\u001b[0mdenoise\u001b[0m\u001b[0;34m)\u001b[0m\u001b[0;34m\u001b[0m\u001b[0;34m\u001b[0m\u001b[0m\n",
            "\u001b[0;32m/content/drive/MyDrive/Wavelet_proj/utils.py\u001b[0m in \u001b[0;36mtrain\u001b[0;34m(model, optimizer, epochs, train_set, test_set, batch_size, model_name, compute_loss, base_dir, **kwargs)\u001b[0m\n\u001b[1;32m     37\u001b[0m             \u001b[0mimages\u001b[0m\u001b[0;34m,\u001b[0m \u001b[0m_\u001b[0m \u001b[0;34m=\u001b[0m \u001b[0mdata\u001b[0m\u001b[0;34m\u001b[0m\u001b[0;34m\u001b[0m\u001b[0m\n\u001b[1;32m     38\u001b[0m             \u001b[0;32mwith\u001b[0m \u001b[0mtorch\u001b[0m\u001b[0;34m.\u001b[0m\u001b[0mno_grad\u001b[0m\u001b[0;34m(\u001b[0m\u001b[0;34m)\u001b[0m\u001b[0;34m:\u001b[0m\u001b[0;34m\u001b[0m\u001b[0;34m\u001b[0m\u001b[0m\n\u001b[0;32m---> 39\u001b[0;31m                 \u001b[0mloss\u001b[0m \u001b[0;34m=\u001b[0m \u001b[0mmodel\u001b[0m\u001b[0;34m.\u001b[0m\u001b[0mloss\u001b[0m\u001b[0;34m(\u001b[0m\u001b[0mimages\u001b[0m\u001b[0;34m)\u001b[0m\u001b[0;34m\u001b[0m\u001b[0;34m\u001b[0m\u001b[0m\n\u001b[0m\u001b[1;32m     40\u001b[0m             \u001b[0mtest_loss\u001b[0m \u001b[0;34m+=\u001b[0m \u001b[0mloss\u001b[0m\u001b[0;34m.\u001b[0m\u001b[0mitem\u001b[0m\u001b[0;34m(\u001b[0m\u001b[0;34m)\u001b[0m\u001b[0;34m\u001b[0m\u001b[0;34m\u001b[0m\u001b[0m\n\u001b[1;32m     41\u001b[0m         \u001b[0mbar\u001b[0m\u001b[0;34m.\u001b[0m\u001b[0mset_postfix\u001b[0m\u001b[0;34m(\u001b[0m\u001b[0;34m{\u001b[0m\u001b[0;34m\"Epoch\"\u001b[0m\u001b[0;34m:\u001b[0m \u001b[0mepoch\u001b[0m\u001b[0;34m+\u001b[0m\u001b[0;36m1\u001b[0m\u001b[0;34m,\u001b[0m \u001b[0;34m\"testing loss\"\u001b[0m\u001b[0;34m:\u001b[0m \u001b[0mformat\u001b[0m\u001b[0;34m(\u001b[0m\u001b[0mtest_loss\u001b[0m\u001b[0;34m,\u001b[0m \u001b[0;34m\".3f\"\u001b[0m\u001b[0;34m)\u001b[0m\u001b[0;34m}\u001b[0m\u001b[0;34m)\u001b[0m\u001b[0;34m\u001b[0m\u001b[0;34m\u001b[0m\u001b[0m\n",
            "\u001b[0;32m/usr/local/lib/python3.10/dist-packages/torch/nn/modules/module.py\u001b[0m in \u001b[0;36m__getattr__\u001b[0;34m(self, name)\u001b[0m\n\u001b[1;32m   1929\u001b[0m             \u001b[0;32mif\u001b[0m \u001b[0mname\u001b[0m \u001b[0;32min\u001b[0m \u001b[0mmodules\u001b[0m\u001b[0;34m:\u001b[0m\u001b[0;34m\u001b[0m\u001b[0;34m\u001b[0m\u001b[0m\n\u001b[1;32m   1930\u001b[0m                 \u001b[0;32mreturn\u001b[0m \u001b[0mmodules\u001b[0m\u001b[0;34m[\u001b[0m\u001b[0mname\u001b[0m\u001b[0;34m]\u001b[0m\u001b[0;34m\u001b[0m\u001b[0;34m\u001b[0m\u001b[0m\n\u001b[0;32m-> 1931\u001b[0;31m         raise AttributeError(\n\u001b[0m\u001b[1;32m   1932\u001b[0m             \u001b[0;34mf\"'{type(self).__name__}' object has no attribute '{name}'\"\u001b[0m\u001b[0;34m\u001b[0m\u001b[0;34m\u001b[0m\u001b[0m\n\u001b[1;32m   1933\u001b[0m         )\n",
            "\u001b[0;31mAttributeError\u001b[0m: 'finalcombine' object has no attribute 'loss'"
          ]
        }
      ],
      "source": [
        "model = finalcombine(3, \"Haar\").to(device)\n",
        "noise_level = 10\n",
        "optimizer = torch.optim.Adam(model.parameters(), lr=0.0001)\n",
        "model_name = \"DSWN\"+str(noise_level)\n",
        "\n",
        "train(model, optimizer, epochs, train_set, test_set, batch_size, model_name, compute_loss=compute_loss, noise_level=noise_level)\n",
        "test(model, test_set, batch_size, model_name, noise_level, denoise=denoise)"
      ]
    },
    {
      "cell_type": "code",
      "execution_count": null,
      "metadata": {
        "id": "dJf6EI5Prymy"
      },
      "outputs": [],
      "source": [
        "model = finalcombine(3, \"Haar\").to(device)\n",
        "noise_level = 25\n",
        "optimizer = torch.optim.Adam(model.parameters(), lr=0.0001)\n",
        "model_name = \"DSWN\"+str(noise_level)\n",
        "\n",
        "train(model, optimizer, epochs, train_set, test_set, batch_size, model_name, compute_loss=compute_loss, noise_level=noise_level)\n",
        "test(model, test_set, batch_size, model_name, noise_level, denoise=denoise)"
      ]
    },
    {
      "cell_type": "code",
      "execution_count": null,
      "metadata": {
        "id": "-QNWCuGjry71"
      },
      "outputs": [],
      "source": [
        "model = finalcombine(3, \"Haar\").to(device)\n",
        "noise_level = 50\n",
        "optimizer = torch.optim.Adam(model.parameters(), lr=0.0001)\n",
        "model_name = \"DSWN\"+str(noise_level)\n",
        "\n",
        "train(model, optimizer, epochs, train_set, test_set, batch_size, model_name, compute_loss=compute_loss, noise_level=noise_level)\n",
        "test(model, test_set, batch_size, model_name, noise_level, denoise=denoise)"
      ]
    },
    {
      "cell_type": "markdown",
      "metadata": {
        "id": "lsaFwQtWbRnE"
      },
      "source": [
        "Group"
      ]
    },
    {
      "cell_type": "code",
      "execution_count": null,
      "metadata": {
        "id": "CyY9k4Y1tnoH"
      },
      "outputs": [],
      "source": [
        "model = finalcombine(3, \"Haar\", groups=True).to(device)\n",
        "noise_level = 50\n",
        "optimizer = torch.optim.Adam(model.parameters(), lr=0.0001)\n",
        "model_name = \"DSWNGroup\"+str(noise_level)\n",
        "\n",
        "train(model, optimizer, epochs, train_set, test_set, batch_size, model_name, compute_loss=compute_loss, noise_level=noise_level)\n",
        "test(model, test_set, batch_size, model_name, noise_level, denoise=denoise)"
      ]
    },
    {
      "cell_type": "markdown",
      "metadata": {
        "id": "DrcAN5pjtu5v"
      },
      "source": [
        "Wavelet Ablation"
      ]
    },
    {
      "cell_type": "code",
      "source": [
        "model = finalcombine(3, \"db2\", groups=True).to(device)\n",
        "noise_level = 50\n",
        "optimizer = torch.optim.Adam(model.parameters(), lr=0.0001)\n",
        "model_name = \"DSWNDB2\"+str(noise_level)\n",
        "\n",
        "train(model, optimizer, epochs, train_set, test_set, batch_size, model_name, compute_loss=compute_loss, noise_level=noise_level)\n",
        "test(model, test_set, batch_size, model_name, noise_level, denoise=denoise)"
      ],
      "metadata": {
        "id": "wNOl-TmTxL0i"
      },
      "execution_count": null,
      "outputs": []
    },
    {
      "cell_type": "code",
      "source": [
        "model = finalcombine(3, \"db3\", groups=True).to(device)\n",
        "noise_level = 50\n",
        "optimizer = torch.optim.Adam(model.parameters(), lr=0.0001)\n",
        "model_name = \"DSWNDB3\"+str(noise_level)\n",
        "\n",
        "train(model, optimizer, epochs, train_set, test_set, batch_size, model_name, compute_loss=compute_loss, noise_level=noise_level)\n",
        "test(model, test_set, batch_size, model_name, noise_level, denoise=denoise)"
      ],
      "metadata": {
        "id": "OEkeSRPxxPrw"
      },
      "execution_count": null,
      "outputs": []
    }
  ],
  "metadata": {
    "accelerator": "GPU",
    "colab": {
      "gpuType": "T4",
      "provenance": []
    },
    "kernelspec": {
      "display_name": "Python 3",
      "name": "python3"
    },
    "language_info": {
      "name": "python"
    }
  },
  "nbformat": 4,
  "nbformat_minor": 0
}