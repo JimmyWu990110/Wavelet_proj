{
 "cells": [
  {
   "cell_type": "code",
   "execution_count": 1,
   "metadata": {
    "scrolled": true
   },
   "outputs": [
    {
     "name": "stdout",
     "output_type": "stream",
     "text": [
      "Requirement already satisfied: PyWavelets in /home/idies/miniconda3/envs/py39/lib/python3.9/site-packages (1.4.1)\n",
      "Requirement already satisfied: pytorch_wavelets in /home/idies/miniconda3/envs/py39/lib/python3.9/site-packages (1.3.0)\n",
      "Requirement already satisfied: scikit-image in /home/idies/miniconda3/envs/py39/lib/python3.9/site-packages (0.19.3)\n",
      "Requirement already satisfied: opencv-python-headless==4.5.3.56 in /home/idies/miniconda3/envs/py39/lib/python3.9/site-packages (4.5.3.56)\n",
      "Requirement already satisfied: numpy>=1.19.3 in /home/idies/miniconda3/envs/py39/lib/python3.9/site-packages (from opencv-python-headless==4.5.3.56) (1.24.3)\n",
      "Requirement already satisfied: six in /home/idies/miniconda3/envs/py39/lib/python3.9/site-packages (from pytorch_wavelets) (1.16.0)\n",
      "Requirement already satisfied: torch in /home/idies/miniconda3/envs/py39/lib/python3.9/site-packages (from pytorch_wavelets) (2.1.0+cu118)\n",
      "Requirement already satisfied: scipy>=1.4.1 in /home/idies/miniconda3/envs/py39/lib/python3.9/site-packages (from scikit-image) (1.11.1)\n",
      "Requirement already satisfied: networkx>=2.2 in /home/idies/miniconda3/envs/py39/lib/python3.9/site-packages (from scikit-image) (3.1)\n",
      "Requirement already satisfied: pillow!=7.1.0,!=7.1.1,!=8.3.0,>=6.1.0 in /home/idies/miniconda3/envs/py39/lib/python3.9/site-packages (from scikit-image) (9.4.0)\n",
      "Requirement already satisfied: imageio>=2.4.1 in /home/idies/miniconda3/envs/py39/lib/python3.9/site-packages (from scikit-image) (2.31.1)\n",
      "Requirement already satisfied: tifffile>=2019.7.26 in /home/idies/miniconda3/envs/py39/lib/python3.9/site-packages (from scikit-image) (2023.4.12)\n",
      "Requirement already satisfied: packaging>=20.0 in /home/idies/miniconda3/envs/py39/lib/python3.9/site-packages (from scikit-image) (23.1)\n",
      "Requirement already satisfied: filelock in /home/idies/miniconda3/envs/py39/lib/python3.9/site-packages (from torch->pytorch_wavelets) (3.9.0)\n",
      "Requirement already satisfied: typing-extensions in /home/idies/miniconda3/envs/py39/lib/python3.9/site-packages (from torch->pytorch_wavelets) (4.12.2)\n",
      "Requirement already satisfied: sympy in /home/idies/miniconda3/envs/py39/lib/python3.9/site-packages (from torch->pytorch_wavelets) (1.11.1)\n",
      "Requirement already satisfied: jinja2 in /home/idies/miniconda3/envs/py39/lib/python3.9/site-packages (from torch->pytorch_wavelets) (3.1.2)\n",
      "Requirement already satisfied: fsspec in /home/idies/miniconda3/envs/py39/lib/python3.9/site-packages (from torch->pytorch_wavelets) (2024.9.0)\n",
      "Requirement already satisfied: triton==2.1.0 in /home/idies/miniconda3/envs/py39/lib/python3.9/site-packages (from torch->pytorch_wavelets) (2.1.0)\n",
      "Requirement already satisfied: MarkupSafe>=2.0 in /home/idies/miniconda3/envs/py39/lib/python3.9/site-packages (from jinja2->torch->pytorch_wavelets) (2.1.1)\n",
      "Requirement already satisfied: mpmath>=0.19 in /home/idies/miniconda3/envs/py39/lib/python3.9/site-packages (from sympy->torch->pytorch_wavelets) (1.3.0)\n",
      "Note: you may need to restart the kernel to use updated packages.\n"
     ]
    }
   ],
   "source": [
    "pip install PyWavelets pytorch_wavelets scikit-image opencv-python-headless==4.5.3.56"
   ]
  },
  {
   "cell_type": "code",
   "execution_count": 2,
   "metadata": {},
   "outputs": [],
   "source": [
    "from pytorch_wavelets import DWTForward, DWTInverse\n",
    "import torch\n",
    "from diffusion.diffusion import Diffusion\n",
    "from diffusion.wavelet_diffusion import WaveDiffusion\n",
    "from BSD import BSDDataset\n",
    "from tqdm import tqdm\n",
    "import numpy as np\n",
    "import os\n",
    "import matplotlib.pyplot as plt\n",
    "import cv2\n",
    "from skimage.metrics import peak_signal_noise_ratio, structural_similarity\n",
    "from utils import train, test"
   ]
  },
  {
   "cell_type": "code",
   "execution_count": 3,
   "metadata": {},
   "outputs": [],
   "source": [
    "torch.manual_seed(4623)\n",
    "torch.cuda.manual_seed(4623)\n",
    "device = torch.device(\"cuda:0\" if torch.cuda.is_available() else \"cpu\")\n",
    "\n",
    "image_size = 256\n",
    "epochs = 50\n",
    "batch_size = 4\n",
    "time_range = 1000\n",
    "lr = 1e-4\n",
    "\n",
    "base_dir=\"\"\n",
    "\n",
    "train_set = BSDDataset(base_dir=base_dir, split=\"train\")\n",
    "test_set = BSDDataset(base_dir=base_dir, split=\"test\")"
   ]
  },
  {
   "cell_type": "code",
   "execution_count": 4,
   "metadata": {},
   "outputs": [],
   "source": [
    "def compute_loss(model, batch):\n",
    "    return model.loss(batch)\n",
    "\n",
    "def denoise(model, noisy_img, t):\n",
    "    return model.generational_denoise(noisy_img, t)"
   ]
  },
  {
   "cell_type": "markdown",
   "metadata": {},
   "source": [
    "**Baseline**"
   ]
  },
  {
   "cell_type": "code",
   "execution_count": 5,
   "metadata": {},
   "outputs": [],
   "source": [
    "model = Diffusion(image_size=image_size, image_channels=3, time_range=time_range, device=device).to(device)\n",
    "model_name = \"Diffuser Baseline\"\n",
    "\n",
    "optimizer = torch.optim.Adam(model.parameters(), lr=lr)"
   ]
  },
  {
   "cell_type": "code",
   "execution_count": 6,
   "metadata": {},
   "outputs": [],
   "source": [
    "model_dir = os.path.join(base_dir, \"results_BSD\", model_name, \"model.pt\")\n",
    "if os.path.exists(model_dir):\n",
    "    model.load_state_dict(torch.load(model_dir).state_dict())\n",
    "else:\n",
    "    train(model, optimizer, epochs, train_set, test_set, batch_size, model_name, compute_loss=compute_loss)"
   ]
  },
  {
   "cell_type": "code",
   "execution_count": 7,
   "metadata": {},
   "outputs": [
    {
     "name": "stdout",
     "output_type": "stream",
     "text": [
      "noise_level: 10\n"
     ]
    },
    {
     "name": "stderr",
     "output_type": "stream",
     "text": [
      "25it [00:42,  1.72s/it]\n"
     ]
    },
    {
     "name": "stdout",
     "output_type": "stream",
     "text": [
      "PSNR noisy: 31.71 +- 0.16\n",
      "SSIM noisy: 0.840 +- 0.066\n",
      "PSNR denoised: 35.34 +- 1.04\n",
      "SSIM denoised: 0.948 +- 0.015\n",
      "noise_level: 25\n"
     ]
    },
    {
     "name": "stderr",
     "output_type": "stream",
     "text": [
      "25it [01:31,  3.65s/it]\n"
     ]
    },
    {
     "name": "stdout",
     "output_type": "stream",
     "text": [
      "PSNR noisy: 23.92 +- 0.26\n",
      "SSIM noisy: 0.557 +- 0.116\n",
      "PSNR denoised: 29.42 +- 0.82\n",
      "SSIM denoised: 0.833 +- 0.048\n",
      "noise_level: 50\n"
     ]
    },
    {
     "name": "stderr",
     "output_type": "stream",
     "text": [
      "25it [02:26,  5.87s/it]\n"
     ]
    },
    {
     "name": "stdout",
     "output_type": "stream",
     "text": [
      "PSNR noisy: 18.31 +- 0.28\n",
      "SSIM noisy: 0.322 +- 0.103\n",
      "PSNR denoised: 23.96 +- 0.56\n",
      "SSIM denoised: 0.613 +- 0.089\n"
     ]
    }
   ],
   "source": [
    "for noise_level, time in [(10, 5), (25, 12), (50, 20)]:\n",
    "    test(model, test_set, batch_size, model_name, noise_level, denoise=denoise, t=time)"
   ]
  },
  {
   "cell_type": "markdown",
   "metadata": {},
   "source": [
    "**WaveDiffusion**"
   ]
  },
  {
   "cell_type": "code",
   "execution_count": 5,
   "metadata": {},
   "outputs": [],
   "source": [
    "model = WaveDiffusion(image_size=image_size, image_channels=3, time_range=time_range, device=device).to(device)\n",
    "model_name = \"WaveDiffusion\"\n",
    "optimizer = torch.optim.Adam(model.parameters(), lr=lr)"
   ]
  },
  {
   "cell_type": "code",
   "execution_count": 6,
   "metadata": {},
   "outputs": [
    {
     "name": "stderr",
     "output_type": "stream",
     "text": [
      "100%|██████████| 50/50 [1:24:34<00:00, 101.48s/it, Epoch=50, testing loss=0.349]       \n"
     ]
    },
    {
     "data": {
      "image/png": "[encoded data removed]",
      "text/plain": [
       "<Figure size 640x480 with 1 Axes>"
      ]
     },
     "metadata": {},
     "output_type": "display_data"
    }
   ],
   "source": [
    "model_dir = os.path.join(base_dir, \"results_BSD\", model_name, \"model.pt\")\n",
    "if os.path.exists(model_dir):\n",
    "    model.load_state_dict(torch.load(model_dir).state_dict())\n",
    "else:\n",
    "    train(model, optimizer, epochs, train_set, test_set, batch_size, model_name, compute_loss=compute_loss)"
   ]
  },
  {
   "cell_type": "code",
   "execution_count": 7,
   "metadata": {},
   "outputs": [
    {
     "name": "stdout",
     "output_type": "stream",
     "text": [
      "noise_level: 10\n"
     ]
    },
    {
     "name": "stderr",
     "output_type": "stream",
     "text": [
      "25it [00:49,  2.00s/it]\n"
     ]
    },
    {
     "name": "stdout",
     "output_type": "stream",
     "text": [
      "PSNR noisy: 31.71 +- 0.16\n",
      "SSIM noisy: 0.840 +- 0.066\n",
      "PSNR denoised: 35.36 +- 1.40\n",
      "SSIM denoised: 0.942 +- 0.015\n",
      "noise_level: 25\n"
     ]
    },
    {
     "name": "stderr",
     "output_type": "stream",
     "text": [
      "25it [01:48,  4.33s/it]\n"
     ]
    },
    {
     "name": "stdout",
     "output_type": "stream",
     "text": [
      "PSNR noisy: 23.92 +- 0.26\n",
      "SSIM noisy: 0.557 +- 0.116\n",
      "PSNR denoised: 30.04 +- 1.08\n",
      "SSIM denoised: 0.839 +- 0.038\n",
      "noise_level: 50\n"
     ]
    },
    {
     "name": "stderr",
     "output_type": "stream",
     "text": [
      "25it [02:53,  6.96s/it]\n"
     ]
    },
    {
     "name": "stdout",
     "output_type": "stream",
     "text": [
      "PSNR noisy: 18.31 +- 0.29\n",
      "SSIM noisy: 0.322 +- 0.103\n",
      "PSNR denoised: 25.05 +- 0.67\n",
      "SSIM denoised: 0.642 +- 0.081\n"
     ]
    }
   ],
   "source": [
    "for noise_level, time in [(10, 5), (25, 12), (50, 20)]:\n",
    "    test(model, test_set, batch_size, model_name, noise_level, denoise=denoise, base_dir=base_dir, t=time)"
   ]
  },
  {
   "cell_type": "markdown",
   "metadata": {},
   "source": [
    "**WaveDiffusion on Wavelet Space**"
   ]
  },
  {
   "cell_type": "code",
   "execution_count": 5,
   "metadata": {},
   "outputs": [],
   "source": [
    "model = WaveDiffusion(image_size=image_size, image_channels=3, time_range=time_range, wavespace=True, device=device).to(device)\n",
    "model_name = \"WaveDiffusionOnWave\"\n",
    "optimizer = torch.optim.Adam(model.parameters(), lr=lr)"
   ]
  },
  {
   "cell_type": "code",
   "execution_count": 6,
   "metadata": {},
   "outputs": [
    {
     "name": "stderr",
     "output_type": "stream",
     "text": [
      " 96%|█████████▌| 48/50 [19:55<00:49, 24.75s/it, Step=4809/5000, training loss=0.050]IOPub message rate exceeded.\n",
      "The Jupyter server will temporarily stop sending output\n",
      "to the client in order to avoid crashing it.\n",
      "To change this limit, set the config variable\n",
      "`--ServerApp.iopub_msg_rate_limit`.\n",
      "\n",
      "Current values:\n",
      "ServerApp.iopub_msg_rate_limit=1000.0 (msgs/sec)\n",
      "ServerApp.rate_limit_window=3.0 (secs)\n",
      "\n"
     ]
    }
   ],
   "source": [
    "model_dir = os.path.join(base_dir, \"results_BSD\", model_name, \"model.pt\")\n",
    "if os.path.exists(model_dir):\n",
    "    model.load_state_dict(torch.load(model_dir).state_dict())\n",
    "else:\n",
    "    train(model, optimizer, epochs, train_set, test_set, batch_size, model_name, compute_loss=compute_loss)"
   ]
  },
  {
   "cell_type": "code",
   "execution_count": 7,
   "metadata": {},
   "outputs": [
    {
     "name": "stdout",
     "output_type": "stream",
     "text": [
      "noise_level: 10\n"
     ]
    },
    {
     "name": "stderr",
     "output_type": "stream",
     "text": [
      "25it [00:17,  1.42it/s]\n"
     ]
    },
    {
     "name": "stdout",
     "output_type": "stream",
     "text": [
      "PSNR noisy: 31.71 +- 0.16\n",
      "SSIM noisy: 0.840 +- 0.066\n",
      "PSNR denoised: 33.28 +- 1.02\n",
      "SSIM denoised: 0.901 +- 0.027\n",
      "noise_level: 25\n"
     ]
    },
    {
     "name": "stderr",
     "output_type": "stream",
     "text": [
      "25it [00:30,  1.22s/it]\n"
     ]
    },
    {
     "name": "stdout",
     "output_type": "stream",
     "text": [
      "PSNR noisy: 23.92 +- 0.26\n",
      "SSIM noisy: 0.557 +- 0.117\n",
      "PSNR denoised: 28.60 +- 1.14\n",
      "SSIM denoised: 0.772 +- 0.048\n",
      "noise_level: 50\n"
     ]
    },
    {
     "name": "stderr",
     "output_type": "stream",
     "text": [
      "25it [00:42,  1.72s/it]\n"
     ]
    },
    {
     "name": "stdout",
     "output_type": "stream",
     "text": [
      "PSNR noisy: 18.31 +- 0.29\n",
      "SSIM noisy: 0.322 +- 0.103\n",
      "PSNR denoised: 24.54 +- 0.80\n",
      "SSIM denoised: 0.595 +- 0.075\n"
     ]
    }
   ],
   "source": [
    "for noise_level, time in [(10, 5), (25, 12), (50, 20)]:\n",
    "    test(model, test_set, batch_size, model_name, noise_level, denoise=denoise, base_dir=base_dir, t=time)"
   ]
  },
  {
   "cell_type": "code",
   "execution_count": null,
   "metadata": {},
   "outputs": [],
   "source": []
  }
 ],
 "metadata": {
  "kernelspec": {
   "display_name": "Python 3.9 (py39)",
   "language": "python",
   "name": "py39"
  },
  "language_info": {
   "codemirror_mode": {
    "name": "ipython",
    "version": 3
   },
   "file_extension": ".py",
   "mimetype": "text/x-python",
   "name": "python",
   "nbconvert_exporter": "python",
   "pygments_lexer": "ipython3",
   "version": "3.9.18"
  }
 },
 "nbformat": 4,
 "nbformat_minor": 4
}
