{
 "cells": [
  {
   "cell_type": "code",
   "execution_count": 1,
   "metadata": {},
   "outputs": [
    {
     "name": "stdout",
     "output_type": "stream",
     "text": [
      "Requirement already satisfied: PyWavelets in /home/idies/miniconda3/envs/py39/lib/python3.9/site-packages (1.4.1)\n",
      "Requirement already satisfied: pytorch_wavelets in /home/idies/miniconda3/envs/py39/lib/python3.9/site-packages (1.3.0)\n",
      "Requirement already satisfied: scikit-image in /home/idies/miniconda3/envs/py39/lib/python3.9/site-packages (0.19.3)\n",
      "Requirement already satisfied: opencv-python-headless==4.5.3.56 in /home/idies/miniconda3/envs/py39/lib/python3.9/site-packages (4.5.3.56)\n",
      "Requirement already satisfied: numpy>=1.19.3 in /home/idies/miniconda3/envs/py39/lib/python3.9/site-packages (from opencv-python-headless==4.5.3.56) (1.24.3)\n",
      "Requirement already satisfied: six in /home/idies/miniconda3/envs/py39/lib/python3.9/site-packages (from pytorch_wavelets) (1.16.0)\n",
      "Requirement already satisfied: torch in /home/idies/miniconda3/envs/py39/lib/python3.9/site-packages (from pytorch_wavelets) (2.1.0+cu118)\n",
      "Requirement already satisfied: scipy>=1.4.1 in /home/idies/miniconda3/envs/py39/lib/python3.9/site-packages (from scikit-image) (1.11.1)\n",
      "Requirement already satisfied: networkx>=2.2 in /home/idies/miniconda3/envs/py39/lib/python3.9/site-packages (from scikit-image) (3.1)\n",
      "Requirement already satisfied: pillow!=7.1.0,!=7.1.1,!=8.3.0,>=6.1.0 in /home/idies/miniconda3/envs/py39/lib/python3.9/site-packages (from scikit-image) (9.4.0)\n",
      "Requirement already satisfied: imageio>=2.4.1 in /home/idies/miniconda3/envs/py39/lib/python3.9/site-packages (from scikit-image) (2.31.1)\n",
      "Requirement already satisfied: tifffile>=2019.7.26 in /home/idies/miniconda3/envs/py39/lib/python3.9/site-packages (from scikit-image) (2023.4.12)\n",
      "Requirement already satisfied: packaging>=20.0 in /home/idies/miniconda3/envs/py39/lib/python3.9/site-packages (from scikit-image) (23.1)\n",
      "Requirement already satisfied: filelock in /home/idies/miniconda3/envs/py39/lib/python3.9/site-packages (from torch->pytorch_wavelets) (3.9.0)\n",
      "Requirement already satisfied: typing-extensions in /home/idies/miniconda3/envs/py39/lib/python3.9/site-packages (from torch->pytorch_wavelets) (4.12.2)\n",
      "Requirement already satisfied: sympy in /home/idies/miniconda3/envs/py39/lib/python3.9/site-packages (from torch->pytorch_wavelets) (1.11.1)\n",
      "Requirement already satisfied: jinja2 in /home/idies/miniconda3/envs/py39/lib/python3.9/site-packages (from torch->pytorch_wavelets) (3.1.2)\n",
      "Requirement already satisfied: fsspec in /home/idies/miniconda3/envs/py39/lib/python3.9/site-packages (from torch->pytorch_wavelets) (2024.9.0)\n",
      "Requirement already satisfied: triton==2.1.0 in /home/idies/miniconda3/envs/py39/lib/python3.9/site-packages (from torch->pytorch_wavelets) (2.1.0)\n",
      "Requirement already satisfied: MarkupSafe>=2.0 in /home/idies/miniconda3/envs/py39/lib/python3.9/site-packages (from jinja2->torch->pytorch_wavelets) (2.1.1)\n",
      "Requirement already satisfied: mpmath>=0.19 in /home/idies/miniconda3/envs/py39/lib/python3.9/site-packages (from sympy->torch->pytorch_wavelets) (1.3.0)\n",
      "Note: you may need to restart the kernel to use updated packages.\n"
     ]
    }
   ],
   "source": [
    "pip install PyWavelets pytorch_wavelets scikit-image opencv-python-headless==4.5.3.56"
   ]
  },
  {
   "cell_type": "code",
   "execution_count": 2,
   "metadata": {},
   "outputs": [],
   "source": [
    "from pytorch_wavelets import DWTForward, DWTInverse\n",
    "import torch\n",
    "from diffusion.diffusion import Diffusion\n",
    "from diffusion.wavelet_diffusion import WaveDiffusion\n",
    "from torch.utils.data import DataLoader\n",
    "from BSD import BSDDataset\n",
    "from tqdm import tqdm\n",
    "import numpy as np\n",
    "import os\n",
    "import matplotlib.pyplot as plt\n",
    "import cv2\n",
    "from skimage.metrics import peak_signal_noise_ratio, structural_similarity\n",
    "from utils import train, test"
   ]
  },
  {
   "cell_type": "code",
   "execution_count": 3,
   "metadata": {},
   "outputs": [],
   "source": [
    "device = torch.device(\"cuda:0\" if torch.cuda.is_available() else \"cpu\")\n",
    "\n",
    "image_size = 256\n",
    "epochs = 100\n",
    "batch_size = 4\n",
    "time_range = 1000\n",
    "lr = 1e-4\n",
    "\n",
    "base_dir=\"\"\n",
    "\n",
    "train_set = BSDDataset(base_dir=base_dir, split=\"train\")\n",
    "test_set = BSDDataset(base_dir=base_dir, split=\"test\")\n",
    "\n",
    "train_loader = DataLoader(train_set, batch_size=batch_size, shuffle=True, num_workers=4)\n",
    "test_loader = DataLoader(test_set, batch_size=batch_size, shuffle=False, num_workers=4)\n"
   ]
  },
  {
   "cell_type": "code",
   "execution_count": 4,
   "metadata": {},
   "outputs": [],
   "source": [
    "def compute_loss(model, batch):\n",
    "    return model.loss(batch)\n",
    "\n",
    "def denoise(model, noisy_img, t):\n",
    "    return model.generational_denoise(noisy_img, t)"
   ]
  },
  {
   "cell_type": "markdown",
   "metadata": {},
   "source": [
    "**Baseline**"
   ]
  },
  {
   "cell_type": "code",
   "execution_count": 12,
   "metadata": {},
   "outputs": [],
   "source": [
    "model = Diffusion(image_size=image_size, image_channels=3, time_range=time_range, device=device).to(device)\n",
    "model_name = \"Diffuser Baseline-time 100\"\n",
    "\n",
    "optimizer = torch.optim.Adam(model.parameters(), lr=lr, weight_decay=1e-3)"
   ]
  },
  {
   "cell_type": "code",
   "execution_count": 13,
   "metadata": {},
   "outputs": [],
   "source": [
    "model_dir = os.path.join(base_dir, \"results_BSD\", model_name, \"model.pt\")\n",
    "if os.path.exists(model_dir):\n",
    "    model.load_state_dict(torch.load(model_dir).state_dict())\n",
    "else:\n",
    "    train(model, optimizer, epochs, train_loader, test_loader, model_name, compute_loss=compute_loss)"
   ]
  },
  {
   "cell_type": "code",
   "execution_count": 17,
   "metadata": {},
   "outputs": [
    {
     "name": "stdout",
     "output_type": "stream",
     "text": [
      "noise_level: 10\n",
      "device: cuda:0\n"
     ]
    },
    {
     "name": "stderr",
     "output_type": "stream",
     "text": [
      "25it [00:35,  1.40s/it]\n"
     ]
    },
    {
     "name": "stdout",
     "output_type": "stream",
     "text": [
      "PSNR noisy: 31.70 +- 0.16\n",
      "SSIM noisy: 0.839 +- 0.066\n",
      "PSNR denoised: 33.86 +- 0.95\n",
      "SSIM denoised: 0.910 +- 0.024\n",
      "noise_level: 25\n",
      "device: cuda:0\n"
     ]
    },
    {
     "name": "stderr",
     "output_type": "stream",
     "text": [
      "25it [01:13,  2.94s/it]\n"
     ]
    },
    {
     "name": "stdout",
     "output_type": "stream",
     "text": [
      "PSNR noisy: 23.91 +- 0.26\n",
      "SSIM noisy: 0.557 +- 0.116\n",
      "PSNR denoised: 28.47 +- 0.87\n",
      "SSIM denoised: 0.766 +- 0.050\n",
      "noise_level: 50\n",
      "device: cuda:0\n"
     ]
    },
    {
     "name": "stderr",
     "output_type": "stream",
     "text": [
      "25it [01:57,  4.70s/it]\n"
     ]
    },
    {
     "name": "stdout",
     "output_type": "stream",
     "text": [
      "PSNR noisy: 18.31 +- 0.29\n",
      "SSIM noisy: 0.322 +- 0.102\n",
      "PSNR denoised: 23.60 +- 0.56\n",
      "SSIM denoised: 0.547 +- 0.084\n"
     ]
    }
   ],
   "source": [
    "for noise_level, time in [(10, 5), (25, 12), (50, 20)]:\n",
    "    test(model, test_loader, model_name, noise_level, denoise=denoise, t=time)"
   ]
  },
  {
   "cell_type": "markdown",
   "metadata": {},
   "source": [
    "**WaveDiffusion**"
   ]
  },
  {
   "cell_type": "code",
   "execution_count": 5,
   "metadata": {},
   "outputs": [],
   "source": [
    "model = WaveDiffusion(image_size=image_size, image_channels=3, time_range=time_range, device=device).to(device)\n",
    "model_name = \"WaveDiffusion\"\n",
    "optimizer = torch.optim.Adam(model.parameters(), lr=lr, weight_decay=1e-3)"
   ]
  },
  {
   "cell_type": "code",
   "execution_count": 6,
   "metadata": {},
   "outputs": [],
   "source": [
    "model_dir = os.path.join(base_dir, \"results_BSD\", model_name, \"model.pt\")\n",
    "if os.path.exists(model_dir):\n",
    "    model.load_state_dict(torch.load(model_dir).state_dict())\n",
    "else:\n",
    "    train(model, optimizer, epochs, train_loader, test_loader, model_name, compute_loss=compute_loss, base_dir=base_dir)"
   ]
  },
  {
   "cell_type": "code",
   "execution_count": 9,
   "metadata": {},
   "outputs": [
    {
     "name": "stdout",
     "output_type": "stream",
     "text": [
      "noise_level: 10\n"
     ]
    },
    {
     "name": "stderr",
     "output_type": "stream",
     "text": [
      "25it [00:33,  1.33s/it]\n"
     ]
    },
    {
     "name": "stdout",
     "output_type": "stream",
     "text": [
      "PSNR noisy: 31.71 +- 0.16\n",
      "SSIM noisy: 0.839 +- 0.066\n",
      "PSNR denoised: 33.61 +- 0.54\n",
      "SSIM denoised: 0.904 +- 0.035\n",
      "noise_level: 25\n"
     ]
    },
    {
     "name": "stderr",
     "output_type": "stream",
     "text": [
      "25it [01:05,  2.63s/it]\n"
     ]
    },
    {
     "name": "stdout",
     "output_type": "stream",
     "text": [
      "PSNR noisy: 23.92 +- 0.26\n",
      "SSIM noisy: 0.557 +- 0.116\n",
      "PSNR denoised: 27.08 +- 0.39\n",
      "SSIM denoised: 0.705 +- 0.087\n",
      "noise_level: 50\n"
     ]
    },
    {
     "name": "stderr",
     "output_type": "stream",
     "text": [
      "25it [02:13,  5.32s/it]\n"
     ]
    },
    {
     "name": "stdout",
     "output_type": "stream",
     "text": [
      "PSNR noisy: 18.31 +- 0.28\n",
      "SSIM noisy: 0.322 +- 0.103\n",
      "PSNR denoised: 22.25 +- 0.30\n",
      "SSIM denoised: 0.489 +- 0.104\n"
     ]
    }
   ],
   "source": [
    "for noise_level, time in [(10, 2), (25, 10), (50, 10)]:\n",
    "    test(model, test_loader, model_name, noise_level, denoise=denoise, base_dir=base_dir, t=time)"
   ]
  },
  {
   "cell_type": "markdown",
   "metadata": {},
   "source": [
    "**WaveDiffusion on Wavelet Space**"
   ]
  },
  {
   "cell_type": "code",
   "execution_count": null,
   "metadata": {},
   "outputs": [],
   "source": []
  }
 ],
 "metadata": {
  "kernelspec": {
   "display_name": "Python 3.9 (py39)",
   "language": "python",
   "name": "py39"
  },
  "language_info": {
   "codemirror_mode": {
    "name": "ipython",
    "version": 3
   },
   "file_extension": ".py",
   "mimetype": "text/x-python",
   "name": "python",
   "nbconvert_exporter": "python",
   "pygments_lexer": "ipython3",
   "version": "3.9.18"
  }
 },
 "nbformat": 4,
 "nbformat_minor": 4
}
